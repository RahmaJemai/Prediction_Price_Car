{
  "cells": [
    {
      "cell_type": "markdown",
      "metadata": {
        "id": "Y-L4Bctw-hQr"
      },
      "source": [
        "## Netoyage data"
      ]
    },
    {
      "cell_type": "code",
      "execution_count": 1,
      "metadata": {
        "id": "klHibAIG-u4r"
      },
      "outputs": [],
      "source": [
        "import numpy as np\n",
        "import pandas as pd"
      ]
    },
    {
      "cell_type": "code",
      "execution_count": 2,
      "metadata": {
        "id": "Yx0UdEgELadp"
      },
      "outputs": [],
      "source": [
        "df1 = pd.read_excel('cars_data.xlsx')\n",
        "df2 = pd.read_excel('cars2_data.xlsx')\n",
        "df3= pd.read_excel('cars3_data.xlsx')"
      ]
    },
    {
      "cell_type": "code",
      "execution_count": 3,
      "metadata": {
        "colab": {
          "base_uri": "https://localhost:8080/"
        },
        "id": "j6w282lGYvAO",
        "outputId": "3a09acad-26da-4777-8165-1888477e4e0c"
      },
      "outputs": [
        {
          "data": {
            "text/plain": [
              "((372, 47), (364, 47), (372, 47))"
            ]
          },
          "execution_count": 3,
          "metadata": {},
          "output_type": "execute_result"
        }
      ],
      "source": [
        "df1.shape, df2.shape, df3.shape"
      ]
    },
    {
      "cell_type": "code",
      "execution_count": 4,
      "metadata": {
        "id": "jvqhKf3qYern"
      },
      "outputs": [],
      "source": [
        "df = pd.concat([df1, df2, df3])"
      ]
    },
    {
      "cell_type": "code",
      "execution_count": 71,
      "metadata": {
        "colab": {
          "base_uri": "https://localhost:8080/"
        },
        "id": "slua4x1SC4bo",
        "outputId": "cd96d9d0-ecb8-4d62-ac8e-eacef997cbea"
      },
      "outputs": [
        {
          "data": {
            "text/plain": [
              "(1035, 49)"
            ]
          },
          "execution_count": 71,
          "metadata": {},
          "output_type": "execute_result"
        }
      ],
      "source": [
        "df.shape"
      ]
    },
    {
      "cell_type": "code",
      "execution_count": 72,
      "metadata": {
        "id": "vHMIxlvUdcws"
      },
      "outputs": [],
      "source": [
        "df.to_excel('Cars_Data.xlsx', index=False)"
      ]
    },
    {
      "cell_type": "code",
      "execution_count": 6,
      "metadata": {
        "id": "Sff8nxIdY9Yf"
      },
      "outputs": [],
      "source": [
        "df.drop_duplicates(inplace=True)"
      ]
    },
    {
      "cell_type": "code",
      "execution_count": 7,
      "metadata": {
        "colab": {
          "base_uri": "https://localhost:8080/"
        },
        "id": "Ck-A6omQ-mLL",
        "outputId": "c2b9f03f-1610-4e6a-ab3f-23bf9642aae0"
      },
      "outputs": [
        {
          "name": "stdout",
          "output_type": "stream",
          "text": [
            "<class 'pandas.core.frame.DataFrame'>\n",
            "Index: 1072 entries, 0 to 371\n",
            "Data columns (total 47 columns):\n",
            " #   Column                      Non-Null Count  Dtype  \n",
            "---  ------                      --------------  -----  \n",
            " 0   Car                         1072 non-null   object \n",
            " 1   Kilometres                  1072 non-null   object \n",
            " 2   Price                       1072 non-null   object \n",
            " 3   Transmission                1072 non-null   object \n",
            " 4   Body type                   1072 non-null   object \n",
            " 5   Drive type                  1072 non-null   object \n",
            " 6   Engine                      1072 non-null   object \n",
            " 7   Fuel type                   948 non-null    object \n",
            " 8   Fuel consumption            1072 non-null   object \n",
            " 9   Colour ext / int            1072 non-null   object \n",
            " 10  Registration                1072 non-null   object \n",
            " 11  Rego expiry                 1072 non-null   object \n",
            " 12  VIN                         1072 non-null   object \n",
            " 13  Stock No                    1072 non-null   object \n",
            " 14  Seating capacity            885 non-null    float64\n",
            " 15  Doors                       895 non-null    float64\n",
            " 16  Front tyre size             884 non-null    object \n",
            " 17  Front rim size              885 non-null    object \n",
            " 18  Rear tyre size              884 non-null    object \n",
            " 19  Rear rim size               885 non-null    object \n",
            " 20  CC                          886 non-null    float64\n",
            " 21  Number of cylinders         1018 non-null   float64\n",
            " 22  Front suspension            871 non-null    object \n",
            " 23  Rear suspension             871 non-null    object \n",
            " 24  Front brakes                885 non-null    object \n",
            " 25  Rear brakes                 885 non-null    object \n",
            " 26  Fuel tank capacity          885 non-null    float64\n",
            " 27  Valve gear type             885 non-null    float64\n",
            " 28  Maximum torque              1072 non-null   object \n",
            " 29  Maximum power (kW)          1072 non-null   object \n",
            " 30  CO2 level (g/km)            858 non-null    float64\n",
            " 31  Overall HxWxL               1072 non-null   object \n",
            " 32  Ground clearance unladen    1072 non-null   object \n",
            " 33  Wheelbase                   1072 non-null   object \n",
            " 34  Kerb weight                 1072 non-null   object \n",
            " 35  Turning circle              1072 non-null   object \n",
            " 36  Rear track                  1072 non-null   object \n",
            " 37  Front track                 1072 non-null   object \n",
            " 38  Make                        1072 non-null   object \n",
            " 39  Model                       1072 non-null   object \n",
            " 40  Variant                     998 non-null    object \n",
            " 41  Series                      883 non-null    object \n",
            " 42  Warranty when new (months)  885 non-null    float64\n",
            " 43  Warranty when new (kms)     885 non-null    object \n",
            " 44  Service interval (months)   884 non-null    float64\n",
            " 45  Service interval (kms)      884 non-null    object \n",
            " 46  Vehicle segment             885 non-null    object \n",
            "dtypes: float64(9), object(38)\n",
            "memory usage: 402.0+ KB\n"
          ]
        }
      ],
      "source": [
        "df.info()"
      ]
    },
    {
      "cell_type": "code",
      "execution_count": 8,
      "metadata": {
        "colab": {
          "base_uri": "https://localhost:8080/",
          "height": 637
        },
        "id": "TYzX4o2lYq9W",
        "outputId": "b919b451-3fd8-42b9-8949-b672e1ab77ed"
      },
      "outputs": [
        {
          "data": {
            "application/vnd.google.colaboratory.intrinsic+json": {
              "type": "dataframe",
              "variable_name": "df"
            },
            "text/html": [
              "\n",
              "  <div id=\"df-ca48cebf-3f68-4d97-9681-1952b48c5bff\" class=\"colab-df-container\">\n",
              "    <div>\n",
              "<style scoped>\n",
              "    .dataframe tbody tr th:only-of-type {\n",
              "        vertical-align: middle;\n",
              "    }\n",
              "\n",
              "    .dataframe tbody tr th {\n",
              "        vertical-align: top;\n",
              "    }\n",
              "\n",
              "    .dataframe thead th {\n",
              "        text-align: right;\n",
              "    }\n",
              "</style>\n",
              "<table border=\"1\" class=\"dataframe\">\n",
              "  <thead>\n",
              "    <tr style=\"text-align: right;\">\n",
              "      <th></th>\n",
              "      <th>Car</th>\n",
              "      <th>Kilometres</th>\n",
              "      <th>Price</th>\n",
              "      <th>Transmission</th>\n",
              "      <th>Body type</th>\n",
              "      <th>Drive type</th>\n",
              "      <th>Engine</th>\n",
              "      <th>Fuel type</th>\n",
              "      <th>Fuel consumption</th>\n",
              "      <th>Colour ext / int</th>\n",
              "      <th>...</th>\n",
              "      <th>Front track</th>\n",
              "      <th>Make</th>\n",
              "      <th>Model</th>\n",
              "      <th>Variant</th>\n",
              "      <th>Series</th>\n",
              "      <th>Warranty when new (months)</th>\n",
              "      <th>Warranty when new (kms)</th>\n",
              "      <th>Service interval (months)</th>\n",
              "      <th>Service interval (kms)</th>\n",
              "      <th>Vehicle segment</th>\n",
              "    </tr>\n",
              "  </thead>\n",
              "  <tbody>\n",
              "    <tr>\n",
              "      <th>0</th>\n",
              "      <td>2024 Isuzu MU-X LS-T (4X2)</td>\n",
              "      <td>15km</td>\n",
              "      <td>$63,890</td>\n",
              "      <td>Auto SEQ Sports Mode</td>\n",
              "      <td>SUV, 4 Doors, 7 Seats</td>\n",
              "      <td>4x2</td>\n",
              "      <td>4 cyl, 3 L</td>\n",
              "      <td>Diesel</td>\n",
              "      <td>7.80 L / 100 km</td>\n",
              "      <td>Blue / -</td>\n",
              "      <td>...</td>\n",
              "      <td>1570 mm</td>\n",
              "      <td>Isuzu</td>\n",
              "      <td>MU-X</td>\n",
              "      <td>LS-T (4X2)</td>\n",
              "      <td>MY24</td>\n",
              "      <td>72.0</td>\n",
              "      <td>150,000</td>\n",
              "      <td>12.0</td>\n",
              "      <td>15,000</td>\n",
              "      <td>SUV Large</td>\n",
              "    </tr>\n",
              "    <tr>\n",
              "      <th>1</th>\n",
              "      <td>2018 Isuzu MU-X LS-M (4X2)</td>\n",
              "      <td>76,000km</td>\n",
              "      <td>$30,880</td>\n",
              "      <td>Auto Sequential</td>\n",
              "      <td>SUV, 4 Doors, 7 Seats</td>\n",
              "      <td>4x2</td>\n",
              "      <td>4 cyl, 3 L</td>\n",
              "      <td>Diesel</td>\n",
              "      <td>8.00 L / 100 km</td>\n",
              "      <td>Silver / -</td>\n",
              "      <td>...</td>\n",
              "      <td>1570 mm</td>\n",
              "      <td>Isuzu</td>\n",
              "      <td>MU-X</td>\n",
              "      <td>LS-M (4X2)</td>\n",
              "      <td>UC MY18</td>\n",
              "      <td>60.0</td>\n",
              "      <td>130,000</td>\n",
              "      <td>12.0</td>\n",
              "      <td>15,000</td>\n",
              "      <td>SUV Large</td>\n",
              "    </tr>\n",
              "    <tr>\n",
              "      <th>2</th>\n",
              "      <td>2021 Isuzu MU-X LS-T (4X4)</td>\n",
              "      <td>64,637km</td>\n",
              "      <td>$50,740</td>\n",
              "      <td>Auto SEQ Sports Mode</td>\n",
              "      <td>SUV, 4 Doors, 7 Seats</td>\n",
              "      <td>4x4</td>\n",
              "      <td>4 cyl, 3 L</td>\n",
              "      <td>Diesel</td>\n",
              "      <td>8.30 L / 100 km</td>\n",
              "      <td>Brown / -</td>\n",
              "      <td>...</td>\n",
              "      <td>1570 mm</td>\n",
              "      <td>Isuzu</td>\n",
              "      <td>MU-X</td>\n",
              "      <td>LS-T (4X4)</td>\n",
              "      <td>RJ MY21</td>\n",
              "      <td>72.0</td>\n",
              "      <td>150,000</td>\n",
              "      <td>12.0</td>\n",
              "      <td>15,000</td>\n",
              "      <td>SUV Large</td>\n",
              "    </tr>\n",
              "    <tr>\n",
              "      <th>3</th>\n",
              "      <td>2023 Isuzu MU-X LS-T (4X2)</td>\n",
              "      <td>10km</td>\n",
              "      <td>$59,990</td>\n",
              "      <td>Auto SEQ Sports Mode</td>\n",
              "      <td>SUV, 4 Doors, 7 Seats</td>\n",
              "      <td>4x2</td>\n",
              "      <td>4 cyl, 3 L</td>\n",
              "      <td>Diesel</td>\n",
              "      <td>7.80 L / 100 km</td>\n",
              "      <td>White / -</td>\n",
              "      <td>...</td>\n",
              "      <td>1570 mm</td>\n",
              "      <td>Isuzu</td>\n",
              "      <td>MU-X</td>\n",
              "      <td>LS-T (4X2)</td>\n",
              "      <td>RJ5 MY23</td>\n",
              "      <td>72.0</td>\n",
              "      <td>150,000</td>\n",
              "      <td>12.0</td>\n",
              "      <td>15,000</td>\n",
              "      <td>SUV Large</td>\n",
              "    </tr>\n",
              "    <tr>\n",
              "      <th>4</th>\n",
              "      <td>2015 Mitsubishi Outlander Exceed (4X4)</td>\n",
              "      <td>83,365km</td>\n",
              "      <td>$23,990</td>\n",
              "      <td>Continuous Variable</td>\n",
              "      <td>SUV, 4 Doors, 7 Seats</td>\n",
              "      <td>All Wheel Drive</td>\n",
              "      <td>4 cyl, 2.4 L</td>\n",
              "      <td>Unleaded Petrol</td>\n",
              "      <td>7.50 L / 100 km</td>\n",
              "      <td>Black / -</td>\n",
              "      <td>...</td>\n",
              "      <td>1540 mm</td>\n",
              "      <td>Mitsubishi</td>\n",
              "      <td>Outlander</td>\n",
              "      <td>Exceed (4X4)</td>\n",
              "      <td>ZK MY16</td>\n",
              "      <td>60.0</td>\n",
              "      <td>130,000</td>\n",
              "      <td>12.0</td>\n",
              "      <td>15,000</td>\n",
              "      <td>SUV Medium</td>\n",
              "    </tr>\n",
              "  </tbody>\n",
              "</table>\n",
              "<p>5 rows × 47 columns</p>\n",
              "</div>\n",
              "    <div class=\"colab-df-buttons\">\n",
              "\n",
              "  <div class=\"colab-df-container\">\n",
              "    <button class=\"colab-df-convert\" onclick=\"convertToInteractive('df-ca48cebf-3f68-4d97-9681-1952b48c5bff')\"\n",
              "            title=\"Convert this dataframe to an interactive table.\"\n",
              "            style=\"display:none;\">\n",
              "\n",
              "  <svg xmlns=\"http://www.w3.org/2000/svg\" height=\"24px\" viewBox=\"0 -960 960 960\">\n",
              "    <path d=\"M120-120v-720h720v720H120Zm60-500h600v-160H180v160Zm220 220h160v-160H400v160Zm0 220h160v-160H400v160ZM180-400h160v-160H180v160Zm440 0h160v-160H620v160ZM180-180h160v-160H180v160Zm440 0h160v-160H620v160Z\"/>\n",
              "  </svg>\n",
              "    </button>\n",
              "\n",
              "  <style>\n",
              "    .colab-df-container {\n",
              "      display:flex;\n",
              "      gap: 12px;\n",
              "    }\n",
              "\n",
              "    .colab-df-convert {\n",
              "      background-color: #E8F0FE;\n",
              "      border: none;\n",
              "      border-radius: 50%;\n",
              "      cursor: pointer;\n",
              "      display: none;\n",
              "      fill: #1967D2;\n",
              "      height: 32px;\n",
              "      padding: 0 0 0 0;\n",
              "      width: 32px;\n",
              "    }\n",
              "\n",
              "    .colab-df-convert:hover {\n",
              "      background-color: #E2EBFA;\n",
              "      box-shadow: 0px 1px 2px rgba(60, 64, 67, 0.3), 0px 1px 3px 1px rgba(60, 64, 67, 0.15);\n",
              "      fill: #174EA6;\n",
              "    }\n",
              "\n",
              "    .colab-df-buttons div {\n",
              "      margin-bottom: 4px;\n",
              "    }\n",
              "\n",
              "    [theme=dark] .colab-df-convert {\n",
              "      background-color: #3B4455;\n",
              "      fill: #D2E3FC;\n",
              "    }\n",
              "\n",
              "    [theme=dark] .colab-df-convert:hover {\n",
              "      background-color: #434B5C;\n",
              "      box-shadow: 0px 1px 3px 1px rgba(0, 0, 0, 0.15);\n",
              "      filter: drop-shadow(0px 1px 2px rgba(0, 0, 0, 0.3));\n",
              "      fill: #FFFFFF;\n",
              "    }\n",
              "  </style>\n",
              "\n",
              "    <script>\n",
              "      const buttonEl =\n",
              "        document.querySelector('#df-ca48cebf-3f68-4d97-9681-1952b48c5bff button.colab-df-convert');\n",
              "      buttonEl.style.display =\n",
              "        google.colab.kernel.accessAllowed ? 'block' : 'none';\n",
              "\n",
              "      async function convertToInteractive(key) {\n",
              "        const element = document.querySelector('#df-ca48cebf-3f68-4d97-9681-1952b48c5bff');\n",
              "        const dataTable =\n",
              "          await google.colab.kernel.invokeFunction('convertToInteractive',\n",
              "                                                    [key], {});\n",
              "        if (!dataTable) return;\n",
              "\n",
              "        const docLinkHtml = 'Like what you see? Visit the ' +\n",
              "          '<a target=\"_blank\" href=https://colab.research.google.com/notebooks/data_table.ipynb>data table notebook</a>'\n",
              "          + ' to learn more about interactive tables.';\n",
              "        element.innerHTML = '';\n",
              "        dataTable['output_type'] = 'display_data';\n",
              "        await google.colab.output.renderOutput(dataTable, element);\n",
              "        const docLink = document.createElement('div');\n",
              "        docLink.innerHTML = docLinkHtml;\n",
              "        element.appendChild(docLink);\n",
              "      }\n",
              "    </script>\n",
              "  </div>\n",
              "\n",
              "\n",
              "<div id=\"df-cfca4512-5594-4d90-902f-748330c35ce3\">\n",
              "  <button class=\"colab-df-quickchart\" onclick=\"quickchart('df-cfca4512-5594-4d90-902f-748330c35ce3')\"\n",
              "            title=\"Suggest charts\"\n",
              "            style=\"display:none;\">\n",
              "\n",
              "<svg xmlns=\"http://www.w3.org/2000/svg\" height=\"24px\"viewBox=\"0 0 24 24\"\n",
              "     width=\"24px\">\n",
              "    <g>\n",
              "        <path d=\"M19 3H5c-1.1 0-2 .9-2 2v14c0 1.1.9 2 2 2h14c1.1 0 2-.9 2-2V5c0-1.1-.9-2-2-2zM9 17H7v-7h2v7zm4 0h-2V7h2v10zm4 0h-2v-4h2v4z\"/>\n",
              "    </g>\n",
              "</svg>\n",
              "  </button>\n",
              "\n",
              "<style>\n",
              "  .colab-df-quickchart {\n",
              "      --bg-color: #E8F0FE;\n",
              "      --fill-color: #1967D2;\n",
              "      --hover-bg-color: #E2EBFA;\n",
              "      --hover-fill-color: #174EA6;\n",
              "      --disabled-fill-color: #AAA;\n",
              "      --disabled-bg-color: #DDD;\n",
              "  }\n",
              "\n",
              "  [theme=dark] .colab-df-quickchart {\n",
              "      --bg-color: #3B4455;\n",
              "      --fill-color: #D2E3FC;\n",
              "      --hover-bg-color: #434B5C;\n",
              "      --hover-fill-color: #FFFFFF;\n",
              "      --disabled-bg-color: #3B4455;\n",
              "      --disabled-fill-color: #666;\n",
              "  }\n",
              "\n",
              "  .colab-df-quickchart {\n",
              "    background-color: var(--bg-color);\n",
              "    border: none;\n",
              "    border-radius: 50%;\n",
              "    cursor: pointer;\n",
              "    display: none;\n",
              "    fill: var(--fill-color);\n",
              "    height: 32px;\n",
              "    padding: 0;\n",
              "    width: 32px;\n",
              "  }\n",
              "\n",
              "  .colab-df-quickchart:hover {\n",
              "    background-color: var(--hover-bg-color);\n",
              "    box-shadow: 0 1px 2px rgba(60, 64, 67, 0.3), 0 1px 3px 1px rgba(60, 64, 67, 0.15);\n",
              "    fill: var(--button-hover-fill-color);\n",
              "  }\n",
              "\n",
              "  .colab-df-quickchart-complete:disabled,\n",
              "  .colab-df-quickchart-complete:disabled:hover {\n",
              "    background-color: var(--disabled-bg-color);\n",
              "    fill: var(--disabled-fill-color);\n",
              "    box-shadow: none;\n",
              "  }\n",
              "\n",
              "  .colab-df-spinner {\n",
              "    border: 2px solid var(--fill-color);\n",
              "    border-color: transparent;\n",
              "    border-bottom-color: var(--fill-color);\n",
              "    animation:\n",
              "      spin 1s steps(1) infinite;\n",
              "  }\n",
              "\n",
              "  @keyframes spin {\n",
              "    0% {\n",
              "      border-color: transparent;\n",
              "      border-bottom-color: var(--fill-color);\n",
              "      border-left-color: var(--fill-color);\n",
              "    }\n",
              "    20% {\n",
              "      border-color: transparent;\n",
              "      border-left-color: var(--fill-color);\n",
              "      border-top-color: var(--fill-color);\n",
              "    }\n",
              "    30% {\n",
              "      border-color: transparent;\n",
              "      border-left-color: var(--fill-color);\n",
              "      border-top-color: var(--fill-color);\n",
              "      border-right-color: var(--fill-color);\n",
              "    }\n",
              "    40% {\n",
              "      border-color: transparent;\n",
              "      border-right-color: var(--fill-color);\n",
              "      border-top-color: var(--fill-color);\n",
              "    }\n",
              "    60% {\n",
              "      border-color: transparent;\n",
              "      border-right-color: var(--fill-color);\n",
              "    }\n",
              "    80% {\n",
              "      border-color: transparent;\n",
              "      border-right-color: var(--fill-color);\n",
              "      border-bottom-color: var(--fill-color);\n",
              "    }\n",
              "    90% {\n",
              "      border-color: transparent;\n",
              "      border-bottom-color: var(--fill-color);\n",
              "    }\n",
              "  }\n",
              "</style>\n",
              "\n",
              "  <script>\n",
              "    async function quickchart(key) {\n",
              "      const quickchartButtonEl =\n",
              "        document.querySelector('#' + key + ' button');\n",
              "      quickchartButtonEl.disabled = true;  // To prevent multiple clicks.\n",
              "      quickchartButtonEl.classList.add('colab-df-spinner');\n",
              "      try {\n",
              "        const charts = await google.colab.kernel.invokeFunction(\n",
              "            'suggestCharts', [key], {});\n",
              "      } catch (error) {\n",
              "        console.error('Error during call to suggestCharts:', error);\n",
              "      }\n",
              "      quickchartButtonEl.classList.remove('colab-df-spinner');\n",
              "      quickchartButtonEl.classList.add('colab-df-quickchart-complete');\n",
              "    }\n",
              "    (() => {\n",
              "      let quickchartButtonEl =\n",
              "        document.querySelector('#df-cfca4512-5594-4d90-902f-748330c35ce3 button');\n",
              "      quickchartButtonEl.style.display =\n",
              "        google.colab.kernel.accessAllowed ? 'block' : 'none';\n",
              "    })();\n",
              "  </script>\n",
              "</div>\n",
              "\n",
              "    </div>\n",
              "  </div>\n"
            ],
            "text/plain": [
              "                                      Car Kilometres    Price  \\\n",
              "0              2024 Isuzu MU-X LS-T (4X2)       15km  $63,890   \n",
              "1              2018 Isuzu MU-X LS-M (4X2)   76,000km  $30,880   \n",
              "2              2021 Isuzu MU-X LS-T (4X4)   64,637km  $50,740   \n",
              "3              2023 Isuzu MU-X LS-T (4X2)       10km  $59,990   \n",
              "4  2015 Mitsubishi Outlander Exceed (4X4)   83,365km  $23,990   \n",
              "\n",
              "           Transmission              Body type       Drive type        Engine  \\\n",
              "0  Auto SEQ Sports Mode  SUV, 4 Doors, 7 Seats              4x2    4 cyl, 3 L   \n",
              "1       Auto Sequential  SUV, 4 Doors, 7 Seats              4x2    4 cyl, 3 L   \n",
              "2  Auto SEQ Sports Mode  SUV, 4 Doors, 7 Seats              4x4    4 cyl, 3 L   \n",
              "3  Auto SEQ Sports Mode  SUV, 4 Doors, 7 Seats              4x2    4 cyl, 3 L   \n",
              "4   Continuous Variable  SUV, 4 Doors, 7 Seats  All Wheel Drive  4 cyl, 2.4 L   \n",
              "\n",
              "         Fuel type Fuel consumption Colour ext / int  ... Front track  \\\n",
              "0           Diesel  7.80 L / 100 km         Blue / -  ...     1570 mm   \n",
              "1           Diesel  8.00 L / 100 km       Silver / -  ...     1570 mm   \n",
              "2           Diesel  8.30 L / 100 km        Brown / -  ...     1570 mm   \n",
              "3           Diesel  7.80 L / 100 km        White / -  ...     1570 mm   \n",
              "4  Unleaded Petrol  7.50 L / 100 km        Black / -  ...     1540 mm   \n",
              "\n",
              "         Make      Model       Variant    Series  Warranty when new (months)  \\\n",
              "0       Isuzu       MU-X    LS-T (4X2)      MY24                        72.0   \n",
              "1       Isuzu       MU-X    LS-M (4X2)   UC MY18                        60.0   \n",
              "2       Isuzu       MU-X    LS-T (4X4)   RJ MY21                        72.0   \n",
              "3       Isuzu       MU-X    LS-T (4X2)  RJ5 MY23                        72.0   \n",
              "4  Mitsubishi  Outlander  Exceed (4X4)   ZK MY16                        60.0   \n",
              "\n",
              "  Warranty when new (kms) Service interval (months) Service interval (kms)  \\\n",
              "0                 150,000                      12.0                 15,000   \n",
              "1                 130,000                      12.0                 15,000   \n",
              "2                 150,000                      12.0                 15,000   \n",
              "3                 150,000                      12.0                 15,000   \n",
              "4                 130,000                      12.0                 15,000   \n",
              "\n",
              "  Vehicle segment  \n",
              "0       SUV Large  \n",
              "1       SUV Large  \n",
              "2       SUV Large  \n",
              "3       SUV Large  \n",
              "4      SUV Medium  \n",
              "\n",
              "[5 rows x 47 columns]"
            ]
          },
          "execution_count": 8,
          "metadata": {},
          "output_type": "execute_result"
        }
      ],
      "source": [
        "df.head()"
      ]
    },
    {
      "cell_type": "code",
      "execution_count": 9,
      "metadata": {
        "id": "29R8jbu_FgJo"
      },
      "outputs": [],
      "source": [
        "df.set_index('Car', inplace=True)"
      ]
    },
    {
      "cell_type": "code",
      "execution_count": 10,
      "metadata": {
        "id": "ZhahsfflbT7H"
      },
      "outputs": [],
      "source": [
        "df.replace([\"-\", \" \"], np.nan, inplace=True)"
      ]
    },
    {
      "cell_type": "code",
      "execution_count": 26,
      "metadata": {
        "colab": {
          "base_uri": "https://localhost:8080/"
        },
        "id": "TJbIGm9oa4pK",
        "outputId": "2344aca8-739d-470f-d5d8-5ab6f1743e4c"
      },
      "outputs": [
        {
          "name": "stdout",
          "output_type": "stream",
          "text": [
            "Kilometres                    float64\n",
            "Price                         float64\n",
            "Transmission                   object\n",
            "Body type                      object\n",
            "Drive type                     object\n",
            "Engine                        float64\n",
            "Fuel type                      object\n",
            "Fuel consumption              float64\n",
            "Colour ext / int               object\n",
            "Registration                   object\n",
            "Rego expiry                    object\n",
            "VIN                            object\n",
            "Stock No                       object\n",
            "Seating capacity                int64\n",
            "Doors                           int64\n",
            "Front tyre size                object\n",
            "Front rim size                 object\n",
            "Rear tyre size                 object\n",
            "Rear rim size                  object\n",
            "CC                            float64\n",
            "Number of cylinders             int64\n",
            "Front suspension               object\n",
            "Rear suspension                object\n",
            "Front brakes                   object\n",
            "Rear brakes                    object\n",
            "Fuel tank capacity            float64\n",
            "Valve gear type               float64\n",
            "Maximum torque                 object\n",
            "Maximum power (kW)             object\n",
            "CO2 level (g/km)              float64\n",
            "Overall HxWxL                  object\n",
            "Ground clearance unladen      float64\n",
            "Wheelbase                     float64\n",
            "Kerb weight                   float64\n",
            "Turning circle                float64\n",
            "Rear track                    float64\n",
            "Front track                   float64\n",
            "Make                           object\n",
            "Model                          object\n",
            "Variant                        object\n",
            "Series                         object\n",
            "Warranty when new (months)    float64\n",
            "Warranty when new (kms)        object\n",
            "Service interval (months)     float64\n",
            "Service interval (kms)         object\n",
            "Vehicle segment                object\n",
            "dtype: object\n"
          ]
        }
      ],
      "source": [
        "print(df.dtypes)"
      ]
    },
    {
      "cell_type": "code",
      "execution_count": 32,
      "metadata": {
        "colab": {
          "base_uri": "https://localhost:8080/"
        },
        "id": "QCUWI6z4Zy_w",
        "outputId": "a5b834bf-4de2-4f89-9812-04c39ac5da2d"
      },
      "outputs": [
        {
          "data": {
            "text/plain": [
              "Kilometres                                      82001.0\n",
              "Price                                           29950.0\n",
              "Transmission                        Continuous Variable\n",
              "Body type                                         SEDAN\n",
              "Drive type                            Front Wheel Drive\n",
              "Engine                                              2.5\n",
              "Fuel type                     Premium Unleaded/Electric\n",
              "Fuel consumption                                    4.2\n",
              "Colour ext / int                              White / -\n",
              "Registration                                      UNREG\n",
              "Rego expiry                                 17 Nov 2024\n",
              "VIN                                   JTNBA3HK403001515\n",
              "Stock No                                          V4584\n",
              "Seating capacity                                      5\n",
              "Doors                                                 4\n",
              "Front tyre size                              215/55 R17\n",
              "Front rim size                                   7.5x17\n",
              "Rear tyre size                               215/55 R17\n",
              "Rear rim size                                    7.5x17\n",
              "CC                                               2494.0\n",
              "Number of cylinders                                   4\n",
              "Front suspension                       MacPherson Strut\n",
              "Rear suspension                      Damper;Independent\n",
              "Front brakes                          Disc - Ventilated\n",
              "Rear brakes                                        Disc\n",
              "Fuel tank capacity                                 50.0\n",
              "Valve gear type                                    16.0\n",
              "Maximum torque                           231 @ 4100 RPM\n",
              "Maximum power (kW)                       133 @ 5700 RPM\n",
              "CO2 level (g/km)                                   96.0\n",
              "Ground clearance unladen                          145.0\n",
              "Wheelbase                                        2825.0\n",
              "Kerb weight                                      1580.0\n",
              "Turning circle                                     12.2\n",
              "Rear track                                       1600.0\n",
              "Front track                                      1590.0\n",
              "Make                                             Toyota\n",
              "Model                                             Camry\n",
              "Variant                                   Ascent Hybrid\n",
              "Series                                          Axvh70R\n",
              "Warranty when new (months)                         60.0\n",
              "Warranty when new (kms)                         999,000\n",
              "Service interval (months)                          12.0\n",
              "Service interval (kms)                           15,000\n",
              "Vehicle segment                                  Medium\n",
              "Overall height                                   1445.0\n",
              "Overall width                                    1840.0\n",
              "Overall length                                   4885.0\n",
              "Colour                                               20\n",
              "Name: 2020 Toyota Camry Ascent Hybrid, dtype: object"
            ]
          },
          "execution_count": 32,
          "metadata": {},
          "output_type": "execute_result"
        }
      ],
      "source": [
        "df.iloc[1000]"
      ]
    },
    {
      "cell_type": "code",
      "execution_count": 13,
      "metadata": {
        "id": "rqAGw7d6GRo5"
      },
      "outputs": [],
      "source": [
        "df['Kilometres'] = df['Kilometres'].str.replace('km', '').str.replace(',', '').astype(float)"
      ]
    },
    {
      "cell_type": "code",
      "execution_count": 14,
      "metadata": {
        "id": "HfIdY2wubibp"
      },
      "outputs": [],
      "source": [
        "df['Price'] = df['Price'].str.replace('$', '').str.replace(',', '').astype(float)"
      ]
    },
    {
      "cell_type": "code",
      "execution_count": 15,
      "metadata": {
        "id": "INUMXCF8cZ86"
      },
      "outputs": [],
      "source": [
        "df['Body type'] = df['Body type'].str.split(',').str[0]"
      ]
    },
    {
      "cell_type": "code",
      "execution_count": 16,
      "metadata": {
        "id": "luwhprATd2Ja"
      },
      "outputs": [],
      "source": [
        "df['Engine'] = df['Engine'].str.split(',').str[1].str.replace(' L', '').astype(float)"
      ]
    },
    {
      "cell_type": "code",
      "execution_count": 17,
      "metadata": {
        "id": "bqqbSDyYcCUS"
      },
      "outputs": [],
      "source": [
        "df['Fuel consumption'] = df['Fuel consumption'].str.replace(' L / 100 km', '').astype(float)"
      ]
    },
    {
      "cell_type": "code",
      "execution_count": 18,
      "metadata": {
        "id": "l3gwPaipeaLp"
      },
      "outputs": [],
      "source": [
        "mean_value = df['Seating capacity'].mean()\n",
        "df['Seating capacity'].fillna(mean_value, inplace=True)\n",
        "df['Seating capacity'] = df['Seating capacity'].astype(int)"
      ]
    },
    {
      "cell_type": "code",
      "execution_count": 19,
      "metadata": {
        "id": "7yEn7pktJ34z"
      },
      "outputs": [],
      "source": [
        "mean_value = df['Doors'].mean()\n",
        "df['Doors'].fillna(mean_value, inplace=True)\n",
        "df['Doors'] = df['Doors'].astype(int)"
      ]
    },
    {
      "cell_type": "code",
      "execution_count": 20,
      "metadata": {
        "id": "C6wBeWOkKF_y"
      },
      "outputs": [],
      "source": [
        "mean_value = df['Number of cylinders'].mean()\n",
        "df['Number of cylinders'].fillna(mean_value, inplace=True)\n",
        "df['Number of cylinders'] = df['Number of cylinders'].astype(int)"
      ]
    },
    {
      "cell_type": "code",
      "execution_count": 21,
      "metadata": {
        "id": "SJ48K2DzKVk1"
      },
      "outputs": [],
      "source": [
        "columns = [\"Ground clearance unladen\", \"Wheelbase\", \"Kerb weight\", \"Turning circle\", \"Rear track\", \"Front track\"]\n",
        "for column in columns:\n",
        "    # Check if the column has a string dtype before using .str accessor\n",
        "    if df[column].dtype == 'object':\n",
        "        df[column] = df[column].str.replace(' mm', '').str.replace(' kg', '').str.replace(' m', '').astype(float)\n",
        "    else:\n",
        "        # Handle the case where the column is already numeric (optional)\n",
        "        print(f\"Column '{column}' is already numeric.\")\n",
        "        # You might want to add some logic here"
      ]
    },
    {
      "cell_type": "code",
      "execution_count": 30,
      "metadata": {
        "colab": {
          "base_uri": "https://localhost:8080/"
        },
        "id": "GU-LmhC2Tk7W",
        "outputId": "cba72529-fac8-49bd-97dd-40f50032b47b"
      },
      "outputs": [
        {
          "name": "stdout",
          "output_type": "stream",
          "text": [
            "['Blue / -' 'Silver / -' 'Brown / -' 'White / -' 'Black / -' '- / -'\n",
            " 'Grey / -' 'Green / -' 'Orange / -' 'Red / -' 'Gold / -' 'White / Black'\n",
            " 'Silver / Black' 'White / Grey' 'Yellow / -' 'Grey / Grey' 'Black / Grey'\n",
            " 'Black / Black' 'Grey / Black' 'Red / Black' 'Blue / Black'\n",
            " 'Grey / Beige' 'Blue / Grey' 'Silver / Grey']\n"
          ]
        }
      ],
      "source": [
        "colrs = df['Colour ext / int'].unique()\n",
        "print(colrs)"
      ]
    },
    {
      "cell_type": "code",
      "execution_count": 31,
      "metadata": {
        "id": "3TdMOOXfUkLg"
      },
      "outputs": [],
      "source": [
        "from sklearn.preprocessing import LabelEncoder\n",
        "\n",
        "label_encoder = LabelEncoder()\n",
        "df['Colour'] = label_encoder.fit_transform(df['Colour ext / int'])"
      ]
    },
    {
      "cell_type": "code",
      "execution_count": 27,
      "metadata": {
        "id": "Ya6t5QzPS_4u"
      },
      "outputs": [],
      "source": [
        "df[['Overall height', 'Overall width', 'Overall length']] = df['Overall HxWxL'].str.replace('mm', '').str.split(' x ', expand=True)\n",
        "\n",
        "df['Overall height'] = df['Overall height'].astype(float)\n",
        "df['Overall width'] = df['Overall width'].astype(float)\n",
        "df['Overall length'] = df['Overall length'].astype(float)"
      ]
    },
    {
      "cell_type": "code",
      "execution_count": 29,
      "metadata": {
        "id": "McG0TiZnTIOv"
      },
      "outputs": [],
      "source": [
        "df.drop(columns=['Overall HxWxL'], inplace=True)"
      ]
    },
    {
      "cell_type": "code",
      "execution_count": 60,
      "metadata": {
        "id": "RP7X5qvCaR9J"
      },
      "outputs": [],
      "source": [
        "df = df.dropna(subset=['Price'])"
      ]
    },
    {
      "cell_type": "code",
      "execution_count": 61,
      "metadata": {
        "id": "Rm7ueBhlNFwE"
      },
      "outputs": [],
      "source": [
        "numeric_columns = df.select_dtypes(include=['float64', 'int64']).columns.tolist()"
      ]
    },
    {
      "cell_type": "code",
      "execution_count": 48,
      "metadata": {
        "id": "Y8Rs2_D_NG2w"
      },
      "outputs": [],
      "source": [
        "from sklearn.model_selection import train_test_split\n",
        "from sklearn.preprocessing import StandardScaler\n",
        "from sklearn.linear_model import LinearRegression\n",
        "from sklearn.metrics import mean_squared_error, r2_score"
      ]
    },
    {
      "cell_type": "code",
      "execution_count": 62,
      "metadata": {
        "id": "Zc2htUbyVUWe"
      },
      "outputs": [],
      "source": [
        "X = df[numeric_columns]\n",
        "y = df[\"Price\"]"
      ]
    },
    {
      "cell_type": "code",
      "execution_count": 64,
      "metadata": {
        "id": "4M1DUx7IV9aG"
      },
      "outputs": [],
      "source": [
        "from sklearn.impute import SimpleImputer\n",
        "imputer = SimpleImputer(strategy='mean')\n",
        "X_imputed = imputer.fit_transform(X)"
      ]
    },
    {
      "cell_type": "code",
      "execution_count": 66,
      "metadata": {
        "id": "YbSfrNO-VWpe"
      },
      "outputs": [],
      "source": [
        "X_train, X_test, y_train, y_test = train_test_split(X_imputed, y, test_size=0.2, random_state=42)"
      ]
    },
    {
      "cell_type": "code",
      "execution_count": 53,
      "metadata": {
        "colab": {
          "base_uri": "https://localhost:8080/",
          "height": 75
        },
        "id": "HuTsT_8MV8_w",
        "outputId": "76203798-14a5-4eb2-df26-d06108e8fe87"
      },
      "outputs": [
        {
          "data": {
            "text/html": [
              "<style>#sk-container-id-1 {color: black;}#sk-container-id-1 pre{padding: 0;}#sk-container-id-1 div.sk-toggleable {background-color: white;}#sk-container-id-1 label.sk-toggleable__label {cursor: pointer;display: block;width: 100%;margin-bottom: 0;padding: 0.3em;box-sizing: border-box;text-align: center;}#sk-container-id-1 label.sk-toggleable__label-arrow:before {content: \"▸\";float: left;margin-right: 0.25em;color: #696969;}#sk-container-id-1 label.sk-toggleable__label-arrow:hover:before {color: black;}#sk-container-id-1 div.sk-estimator:hover label.sk-toggleable__label-arrow:before {color: black;}#sk-container-id-1 div.sk-toggleable__content {max-height: 0;max-width: 0;overflow: hidden;text-align: left;background-color: #f0f8ff;}#sk-container-id-1 div.sk-toggleable__content pre {margin: 0.2em;color: black;border-radius: 0.25em;background-color: #f0f8ff;}#sk-container-id-1 input.sk-toggleable__control:checked~div.sk-toggleable__content {max-height: 200px;max-width: 100%;overflow: auto;}#sk-container-id-1 input.sk-toggleable__control:checked~label.sk-toggleable__label-arrow:before {content: \"▾\";}#sk-container-id-1 div.sk-estimator input.sk-toggleable__control:checked~label.sk-toggleable__label {background-color: #d4ebff;}#sk-container-id-1 div.sk-label input.sk-toggleable__control:checked~label.sk-toggleable__label {background-color: #d4ebff;}#sk-container-id-1 input.sk-hidden--visually {border: 0;clip: rect(1px 1px 1px 1px);clip: rect(1px, 1px, 1px, 1px);height: 1px;margin: -1px;overflow: hidden;padding: 0;position: absolute;width: 1px;}#sk-container-id-1 div.sk-estimator {font-family: monospace;background-color: #f0f8ff;border: 1px dotted black;border-radius: 0.25em;box-sizing: border-box;margin-bottom: 0.5em;}#sk-container-id-1 div.sk-estimator:hover {background-color: #d4ebff;}#sk-container-id-1 div.sk-parallel-item::after {content: \"\";width: 100%;border-bottom: 1px solid gray;flex-grow: 1;}#sk-container-id-1 div.sk-label:hover label.sk-toggleable__label {background-color: #d4ebff;}#sk-container-id-1 div.sk-serial::before {content: \"\";position: absolute;border-left: 1px solid gray;box-sizing: border-box;top: 0;bottom: 0;left: 50%;z-index: 0;}#sk-container-id-1 div.sk-serial {display: flex;flex-direction: column;align-items: center;background-color: white;padding-right: 0.2em;padding-left: 0.2em;position: relative;}#sk-container-id-1 div.sk-item {position: relative;z-index: 1;}#sk-container-id-1 div.sk-parallel {display: flex;align-items: stretch;justify-content: center;background-color: white;position: relative;}#sk-container-id-1 div.sk-item::before, #sk-container-id-1 div.sk-parallel-item::before {content: \"\";position: absolute;border-left: 1px solid gray;box-sizing: border-box;top: 0;bottom: 0;left: 50%;z-index: -1;}#sk-container-id-1 div.sk-parallel-item {display: flex;flex-direction: column;z-index: 1;position: relative;background-color: white;}#sk-container-id-1 div.sk-parallel-item:first-child::after {align-self: flex-end;width: 50%;}#sk-container-id-1 div.sk-parallel-item:last-child::after {align-self: flex-start;width: 50%;}#sk-container-id-1 div.sk-parallel-item:only-child::after {width: 0;}#sk-container-id-1 div.sk-dashed-wrapped {border: 1px dashed gray;margin: 0 0.4em 0.5em 0.4em;box-sizing: border-box;padding-bottom: 0.4em;background-color: white;}#sk-container-id-1 div.sk-label label {font-family: monospace;font-weight: bold;display: inline-block;line-height: 1.2em;}#sk-container-id-1 div.sk-label-container {text-align: center;}#sk-container-id-1 div.sk-container {/* jupyter's `normalize.less` sets `[hidden] { display: none; }` but bootstrap.min.css set `[hidden] { display: none !important; }` so we also need the `!important` here to be able to override the default hidden behavior on the sphinx rendered scikit-learn.org. See: https://github.com/scikit-learn/scikit-learn/issues/21755 */display: inline-block !important;position: relative;}#sk-container-id-1 div.sk-text-repr-fallback {display: none;}</style><div id=\"sk-container-id-1\" class=\"sk-top-container\"><div class=\"sk-text-repr-fallback\"><pre>LinearRegression()</pre><b>In a Jupyter environment, please rerun this cell to show the HTML representation or trust the notebook. <br />On GitHub, the HTML representation is unable to render, please try loading this page with nbviewer.org.</b></div><div class=\"sk-container\" hidden><div class=\"sk-item\"><div class=\"sk-estimator sk-toggleable\"><input class=\"sk-toggleable__control sk-hidden--visually\" id=\"sk-estimator-id-1\" type=\"checkbox\" checked><label for=\"sk-estimator-id-1\" class=\"sk-toggleable__label sk-toggleable__label-arrow\">LinearRegression</label><div class=\"sk-toggleable__content\"><pre>LinearRegression()</pre></div></div></div></div></div>"
            ],
            "text/plain": [
              "LinearRegression()"
            ]
          },
          "execution_count": 53,
          "metadata": {},
          "output_type": "execute_result"
        }
      ],
      "source": [
        "model = LinearRegression()\n",
        "model.fit(X_train, y_train)"
      ]
    },
    {
      "cell_type": "code",
      "execution_count": 54,
      "metadata": {
        "colab": {
          "base_uri": "https://localhost:8080/"
        },
        "id": "lPN2hT-xVhoe",
        "outputId": "a60843d1-5165-48bf-a422-464a7ed5d91c"
      },
      "outputs": [
        {
          "name": "stdout",
          "output_type": "stream",
          "text": [
            "Coefficients du modèle: [ 6.08985402e-17  1.00000000e+00 -6.37956276e-12  2.39543002e-13\n",
            " -3.66307832e-13 -3.74909133e-13  5.69885516e-15  1.07345334e-13\n",
            " -3.79829299e-13  6.92604792e-14  1.42958857e-14  1.81260889e-14\n",
            "  1.93654617e-15  8.26675038e-15  1.90413118e-13  7.19079086e-15\n",
            "  2.50686780e-15 -4.20958841e-14  5.87275657e-14 -3.05311332e-16\n",
            " -3.33286458e-15  2.89091667e-15  2.42089606e-14]\n",
            "Intercept: -2.546585164964199e-11\n"
          ]
        }
      ],
      "source": [
        "print(\"Coefficients du modèle:\", model.coef_)\n",
        "print(\"Intercept:\", model.intercept_)"
      ]
    },
    {
      "cell_type": "code",
      "execution_count": 55,
      "metadata": {
        "colab": {
          "base_uri": "https://localhost:8080/"
        },
        "id": "gxSzgsUcXAhg",
        "outputId": "c801de78-8a9a-4457-8d8d-3c63c84a3818"
      },
      "outputs": [
        {
          "name": "stdout",
          "output_type": "stream",
          "text": [
            "Prédictions: [ 32995.  58990. 122888.  12990.   7990.  20090.  12950.  39990.  29999.\n",
            "  16777.  33900.  25990.  28990.  19880.  22999.  39990.  26888.   7999.\n",
            "  51888.   7490.  39990. 109800.  21990.  62990.  26990.  43990.  20950.\n",
            " 179888.  12990.  14950.   7888.   9999.  18990.  13999. 237888.  33995.\n",
            "  10990.  18990.  33888.  16990.  49888.  20990.  76888.  16888.  22990.\n",
            "  59990.  13990.  16790.   7850.  23990.  16900.  22990.  20999.  26990.\n",
            "  25999.  23800.  11980.  16990.  28950.   5949.  23990.  25888.  66990.\n",
            "  32999.  35990.  10950.  11995.   8880.  33999.  27990.  17990.  14999.\n",
            "   8990.  66990.  11500.  13999.  24800.  14888.  27990.   4990.  16888.\n",
            "  19990.  24990.  29950.   3999.  14999.  59990.  68887.  34990.  21500.\n",
            "  20990.  29990.   8995.  39990.  11995.  47490.  11979.  28990.  25888.\n",
            "  56850.  39800.  46490.  15999.  13997.  25390.  24950.  12999.  13990.\n",
            "  26990.  19990.  49990.  11999.  23990.  12995.  19990.   3999.  24999.\n",
            "  18900.  19888.  20880.  19888.  24990.  19990.   6995.  47950.  24999.\n",
            "  30485.  22950.  11990.  27490.  11888.  25999.  49990.  29995.  60800.\n",
            "  49888.  34990.   6999.  50740.  33888.  10950.   7850.  22800.   9999.\n",
            "  19990.  15995.   9950.  29990.  38888.  59990.  12888.  29999.   7990.\n",
            "  19850.  28995.  18995.   5990.  17856.  27990.  30490.  34800.   9999.\n",
            "  13995.  22990.  35888.  31490.  20984. 110000.  15999.  13990.  23817.\n",
            "   7950.  26990.  33990.   7950.  25990.  16995.  28000.   4990.   6990.\n",
            "  12800.   9888.  10995.  34850.  43989.  16999.  10999.  12999.  11990.\n",
            "  24990.  61990.  14190.  32888.  14999.  13999.  13950.  32490.  10995.\n",
            "  34990.  20995.  29800.   8999.  11950.  10999.  53300.  76887.  25995.]\n"
          ]
        }
      ],
      "source": [
        "# Prédictions sur l'ensemble de test\n",
        "y_pred = model.predict(X_test)\n",
        "print(\"Prédictions:\", y_pred)"
      ]
    },
    {
      "cell_type": "code",
      "execution_count": 56,
      "metadata": {
        "colab": {
          "base_uri": "https://localhost:8080/"
        },
        "id": "PAQWd4zTNtR6",
        "outputId": "ba9311fe-1dec-4af2-9bb3-b03e57302f12"
      },
      "outputs": [
        {
          "name": "stdout",
          "output_type": "stream",
          "text": [
            "MSE: 5.677675815607031e-23\n",
            "R²: 1.0\n"
          ]
        }
      ],
      "source": [
        "mse = mean_squared_error(y_test, y_pred)\n",
        "r2 = r2_score(y_test, y_pred)\n",
        "\n",
        "print(f\"MSE: {mse}\")\n",
        "print(f\"R²: {r2}\")"
      ]
    },
    {
      "cell_type": "code",
      "execution_count": 57,
      "metadata": {
        "colab": {
          "base_uri": "https://localhost:8080/",
          "height": 565
        },
        "id": "HAUnGFbZXWno",
        "outputId": "8afb7fc6-ad55-48bc-e575-b77abbbda57e"
      },
      "outputs": [
        {
          "data": {
            "image/png": "[encoded data removed]",
            "text/plain": [
              "<Figure size 1000x600 with 1 Axes>"
            ]
          },
          "metadata": {},
          "output_type": "display_data"
        }
      ],
      "source": [
        "from matplotlib import pyplot as plt\n",
        "plt.figure(figsize=(10, 6))\n",
        "plt.scatter(y_test, y_pred, edgecolors=(0, 0, 0))\n",
        "plt.plot([y_test.min(), y_test.max()], [y_test.min(), y_test.max()], 'k--', lw=4)\n",
        "plt.xlabel('Valeurs réelles')\n",
        "plt.ylabel('Valeurs prédites')\n",
        "plt.title('Graphique de dispersion des valeurs réelles vs prédites')\n",
        "plt.show()"
      ]
    },
    {
      "cell_type": "code",
      "execution_count": 68,
      "metadata": {
        "colab": {
          "base_uri": "https://localhost:8080/"
        },
        "id": "ROglZdoxaFSY",
        "outputId": "8ed70ce8-6681-4ecf-9cd9-d16dbc9daab5"
      },
      "outputs": [
        {
          "name": "stdout",
          "output_type": "stream",
          "text": [
            "SVM - MSE: 696855365.2440796, R²: -0.044345345600831365\n"
          ]
        }
      ],
      "source": [
        "from sklearn.svm import SVR\n",
        "from sklearn.metrics import mean_squared_error, r2_score\n",
        "\n",
        "model_svm = SVR(kernel='rbf')\n",
        "model_svm.fit(X_train, y_train)\n",
        "\n",
        "y_pred_svm = model_svm.predict(X_test)\n",
        "\n",
        "\n",
        "mse_svm = mean_squared_error(y_test, y_pred_svm)\n",
        "r2_svm = r2_score(y_test, y_pred_svm)\n",
        "\n",
        "print(f\"SVM - MSE: {mse_svm}, R²: {r2_svm}\")"
      ]
    },
    {
      "cell_type": "code",
      "execution_count": 70,
      "metadata": {
        "colab": {
          "base_uri": "https://localhost:8080/"
        },
        "id": "VAEUd6hma1e6",
        "outputId": "24b1176d-ff62-418c-8401-ea4accebf872"
      },
      "outputs": [
        {
          "name": "stdout",
          "output_type": "stream",
          "text": [
            "KNN - MSE: 63322552.37294684, R²: 0.9051013795106692\n"
          ]
        }
      ],
      "source": [
        "from sklearn.neighbors import KNeighborsRegressor\n",
        "from sklearn.metrics import mean_squared_error, r2_score\n",
        "\n",
        "model_knn = KNeighborsRegressor(n_neighbors=5)\n",
        "model_knn.fit(X_train, y_train)\n",
        "\n",
        "# Faire des prédictions\n",
        "y_pred_knn = model_knn.predict(X_test)\n",
        "\n",
        "# Calculer les métriques de performance\n",
        "mse_knn = mean_squared_error(y_test, y_pred_knn)\n",
        "r2_knn = r2_score(y_test, y_pred_knn)\n",
        "\n",
        "print(f\"KNN - MSE: {mse_knn}, R²: {r2_knn}\")"
      ]
    }
  ],
  "metadata": {
    "colab": {
      "provenance": []
    },
    "kernelspec": {
      "display_name": "Python 3",
      "name": "python3"
    },
    "language_info": {
      "name": "python"
    }
  },
  "nbformat": 4,
  "nbformat_minor": 0
}
